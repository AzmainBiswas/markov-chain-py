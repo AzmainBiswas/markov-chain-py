{
 "cells": [
  {
   "cell_type": "markdown",
   "metadata": {},
   "source": [
    "# Google Page Rank\n",
    "small example of Google Page Rank"
   ]
  },
  {
   "cell_type": "code",
   "execution_count": 1,
   "metadata": {},
   "outputs": [
    {
     "name": "stdout",
     "output_type": "stream",
     "text": [
      "\n",
      "\n",
      " t_10000 = [[0.20618557 0.20618557 0.20618557 0.3814433 ]]\n",
      " t_10001 = [[0.20618557 0.20618557 0.20618557 0.3814433 ]]\n",
      " t_10002 = [[0.20618557 0.20618557 0.20618557 0.3814433 ]]\n",
      " t_10003 = [[0.20618557 0.20618557 0.20618557 0.3814433 ]]\n",
      " t_10004 = [[0.20618557 0.20618557 0.20618557 0.3814433 ]]\n"
     ]
    }
   ],
   "source": [
    "ALPHA = 0.85\n",
    "\n",
    "import numpy as np\n",
    "\n",
    "def PageRank(TransitionMat, InitVector, NumbOfIt, M):\n",
    "    ti = InitVector\n",
    "    J = np.full((M,M),1)\n",
    "    aJ = np.multiply((1-ALPHA)/M,J)\n",
    "    aTransitionMat = np.multiply(ALPHA,TransitionMat)\n",
    "    G = np.add(aTransitionMat,aJ) # Google transition matrix.\n",
    "    for _ in range(NumbOfIt):\n",
    "        ti = np.matmul(ti,G)\n",
    "    return ti\n",
    "\n",
    "P = np.matrix([[0, 1/2, 0, 1/2], [1/2, 0, 1/2, 0], [0, 0, 0, 1], [1/4, 1/4, 1/4, 1/4]])\n",
    "t0 = np.matrix([1/4,1/4,1/4,1/4])\n",
    "\n",
    "t10000 = PageRank(P, t0, 10000, 4)\n",
    "t10001 = PageRank(P, t0, 10001, 4)\n",
    "t10002 = PageRank(P, t0, 10002, 4)\n",
    "t10003 = PageRank(P, t0, 10003, 4)\n",
    "t10004 = PageRank(P, t0, 10004, 4)\n",
    "\n",
    "print(\"\\n\")\n",
    "print(f' t_10000 = {t10000}')\n",
    "print(f' t_10001 = {t10001}')\n",
    "print(f' t_10002 = {t10002}')\n",
    "print(f' t_10003 = {t10003}')\n",
    "print(f' t_10004 = {t10004}')\n"
   ]
  }
 ],
 "metadata": {
  "kernelspec": {
   "display_name": ".venv",
   "language": "python",
   "name": "python3"
  },
  "language_info": {
   "codemirror_mode": {
    "name": "ipython",
    "version": 3
   },
   "file_extension": ".py",
   "mimetype": "text/x-python",
   "name": "python",
   "nbconvert_exporter": "python",
   "pygments_lexer": "ipython3",
   "version": "3.11.2"
  }
 },
 "nbformat": 4,
 "nbformat_minor": 2
}
