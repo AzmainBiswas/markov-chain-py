{
 "cells": [
  {
   "cell_type": "markdown",
   "metadata": {},
   "source": [
    "# Text Simulation Through Markov Chain"
   ]
  },
  {
   "cell_type": "code",
   "execution_count": 8,
   "metadata": {},
   "outputs": [],
   "source": [
    "import re\n",
    "import numpy as np\n",
    "import json"
   ]
  },
  {
   "cell_type": "markdown",
   "metadata": {},
   "source": [
    "## remove unnecessary curracter from main data file"
   ]
  },
  {
   "cell_type": "code",
   "execution_count": 2,
   "metadata": {},
   "outputs": [],
   "source": [
    "def text_cleaner(text):\n",
    "    text = re.sub(r\"--\", \" \", text)\n",
    "    text = re.sub(\"[\\[].*?[\\]]\", \"\", text)\n",
    "    text = re.sub(r\"(\\b|\\s+\\-?|^\\-?)(\\d+|\\d*\\.\\d+)\\b\", \"\", text)\n",
    "    text = \" \".join(text.split())\n",
    "    return text\n",
    "\n",
    "\n",
    "file = open(\n",
    "    \"/mnt/docs/code/python/math/markov_chain/shakespeare.txt\", encoding=\"utf8\"\n",
    ").read()\n",
    "file = re.sub(r\"Chapter \\d+\", \"\", file)\n",
    "\n",
    "file = text_cleaner(file)\n",
    "\n",
    "with open(\n",
    "    \"/mnt/docs/code/python/math/markov_chain/shakespeare_clean_data.txt\",\n",
    "    \"w\",\n",
    ") as f:\n",
    "    f.write(file)"
   ]
  },
  {
   "cell_type": "markdown",
   "metadata": {},
   "source": [
    "## simulating text"
   ]
  },
  {
   "cell_type": "code",
   "execution_count": 3,
   "metadata": {},
   "outputs": [],
   "source": [
    "text = open('/mnt/docs/code/python/math/markov_chain/shakespeare_clean_data.txt', 'r').read() #open file\n",
    "text_words = text.split() # splite words"
   ]
  },
  {
   "cell_type": "code",
   "execution_count": 4,
   "metadata": {},
   "outputs": [],
   "source": [
    "def make_pair(list): # making pair of consecutive words\n",
    "    for i in range(len(list) - 1):\n",
    "        yield (list[i], list[i+1])"
   ]
  },
  {
   "cell_type": "code",
   "execution_count": 5,
   "metadata": {},
   "outputs": [],
   "source": [
    "pairs = make_pair(text_words)"
   ]
  },
  {
   "cell_type": "code",
   "execution_count": 6,
   "metadata": {},
   "outputs": [],
   "source": [
    "words_dist = {}\n",
    "for word_1, word_2 in pairs:\n",
    "    if word_1 in words_dist.keys():\n",
    "        words_dist[word_1].append(word_2)\n",
    "    else:\n",
    "        words_dist[word_1] = [word_2]"
   ]
  },
  {
   "cell_type": "code",
   "execution_count": 9,
   "metadata": {},
   "outputs": [],
   "source": [
    "with open('/mnt/docs/code/python/math/markov_chain/dist.json', 'w') as f:\n",
    "    json.dump(words_dist, f)"
   ]
  },
  {
   "cell_type": "code",
   "execution_count": 10,
   "metadata": {},
   "outputs": [],
   "source": [
    "first_word = np.random.choice(text_words)\n",
    "while first_word.islower():\n",
    "    first_word = np.random.choice(text_words)"
   ]
  },
  {
   "cell_type": "markdown",
   "metadata": {},
   "source": [
    "Main chain"
   ]
  },
  {
   "cell_type": "code",
   "execution_count": 11,
   "metadata": {},
   "outputs": [
    {
     "name": "stdout",
     "output_type": "stream",
     "text": [
      "What was there reigns Between the body to the compass come, No masque and JAQUENETTA BEROWNE. Let's be noble; yet, wert\n"
     ]
    }
   ],
   "source": [
    "chain = [first_word]\n",
    "\n",
    "n_word = 20\n",
    "\n",
    "for i in range(n_word):\n",
    "    chain.append(np.random.choice(words_dist[chain[-1]]))\n",
    "\n",
    "print(' '.join(chain))"
   ]
  }
 ],
 "metadata": {
  "kernelspec": {
   "display_name": "Python 3",
   "language": "python",
   "name": "python3"
  },
  "language_info": {
   "codemirror_mode": {
    "name": "ipython",
    "version": 3
   },
   "file_extension": ".py",
   "mimetype": "text/x-python",
   "name": "python",
   "nbconvert_exporter": "python",
   "pygments_lexer": "ipython3",
   "version": "3.11.2"
  }
 },
 "nbformat": 4,
 "nbformat_minor": 2
}
